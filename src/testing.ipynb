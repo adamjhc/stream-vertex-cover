{
 "cells": [
  {
   "cell_type": "markdown",
   "metadata": {
    "deletable": false,
    "editable": false,
    "run_control": {
     "frozen": true
    }
   },
   "source": [
    "# Local testing for Vertex Cover algorithms\n",
    "\n",
    "Fix for NotImplementedError for notebook in Python3.8\n",
    "https://stackoverflow.com/questions/58422817/jupyter-notebook-with-python-3-8-notimplementederror"
   ]
  },
  {
   "cell_type": "code",
   "execution_count": 1,
   "metadata": {},
   "outputs": [],
   "source": [
    "import networkx as nx\n",
    "import matplotlib.pyplot as plt\n",
    "\n",
    "from networkx.algorithms.approximation.vertex_cover import min_weighted_vertex_cover\n",
    "from vertex_cover import *"
   ]
  },
  {
   "cell_type": "markdown",
   "metadata": {
    "deletable": false,
    "editable": false,
    "run_control": {
     "frozen": true
    }
   },
   "source": [
    "## Generating graphs"
   ]
  },
  {
   "cell_type": "code",
   "execution_count": 2,
   "metadata": {},
   "outputs": [],
   "source": [
    "# Generate classic small graphs\n",
    "petersen = nx.petersen_graph()\n",
    "tutte = nx.tutte_graph()\n",
    "maze = nx.sedgewick_maze_graph()\n",
    "tet = nx.tetrahedral_graph()"
   ]
  },
  {
   "cell_type": "code",
   "execution_count": 3,
   "metadata": {},
   "outputs": [],
   "source": [
    "# Generate social networks\n",
    "florentine = nx.generators.social.florentine_families_graph()"
   ]
  },
  {
   "cell_type": "code",
   "execution_count": 4,
   "metadata": {},
   "outputs": [],
   "source": [
    "# Constructively generate classic graphs\n",
    "K_5 = nx.complete_graph(5)\n",
    "K_3_5 = nx.complete_bipartite_graph(3, 5)\n",
    "barbell = nx.barbell_graph(10, 10)\n",
    "lollipop = nx.lollipop_graph(10, 20)"
   ]
  },
  {
   "cell_type": "code",
   "execution_count": 5,
   "metadata": {},
   "outputs": [],
   "source": [
    "# Generate stochastic graphs\n",
    "er = nx.erdos_renyi_graph(100, 0.15)\n",
    "ws = nx.watts_strogatz_graph(30, 3, 0.1)\n",
    "ba = nx.barabasi_albert_graph(100, 5)\n",
    "red = nx.random_lobster(100, 0.9, 0.9)"
   ]
  },
  {
   "cell_type": "markdown",
   "metadata": {},
   "source": [
    "NetworkX random graph generators worth testing with:\n",
    "- Community\n",
    "- Social Networks\n",
    "- Random Graphs"
   ]
  },
  {
   "cell_type": "markdown",
   "metadata": {
    "deletable": false,
    "editable": false,
    "run_control": {
     "frozen": true
    }
   },
   "source": [
    "## Drawing graphs"
   ]
  },
  {
   "cell_type": "code",
   "execution_count": 6,
   "metadata": {},
   "outputs": [
    {
     "data": {
      "image/png": "[encoded data removed]",
      "text/plain": [
       "<Figure size 432x288 with 2 Axes>"
      ]
     },
     "metadata": {},
     "output_type": "display_data"
    }
   ],
   "source": [
    "options = {\n",
    "#     'node_color': 'black',\n",
    "    'node_size': 50,\n",
    "    'line_color': 'grey',\n",
    "    'linewidths': 0,\n",
    "    'width': 0.5,\n",
    "}\n",
    "\n",
    "plt.subplot(121)\n",
    "nx.draw(florentine, **options)\n",
    "plt.subplot(122)\n",
    "nx.draw(tutte, **options)"
   ]
  },
  {
   "cell_type": "markdown",
   "metadata": {
    "deletable": false,
    "editable": false,
    "run_control": {
     "frozen": true
    }
   },
   "source": [
    "## Testing VC"
   ]
  },
  {
   "cell_type": "code",
   "execution_count": 7,
   "metadata": {},
   "outputs": [],
   "source": [
    "def print_vc(graph, vc):\n",
    "    if vc:\n",
    "        print(vc)\n",
    "        print(f\"Size: {len(vc)}\")\n",
    "        print(f\"VC? : {is_vertex_cover(graph, vc)}\")\n",
    "    else:\n",
    "        print(\"None\")"
   ]
  },
  {
   "cell_type": "markdown",
   "metadata": {
    "deletable": false,
    "editable": false,
    "run_control": {
     "frozen": true
    }
   },
   "source": [
    "### Validity"
   ]
  },
  {
   "cell_type": "code",
   "execution_count": 8,
   "metadata": {},
   "outputs": [],
   "source": [
    "graph = florentine\n",
    "k = 12"
   ]
  },
  {
   "cell_type": "markdown",
   "metadata": {
    "deletable": false,
    "editable": false,
    "run_control": {
     "frozen": true
    }
   },
   "source": [
    "#### Kernelization"
   ]
  },
  {
   "cell_type": "code",
   "execution_count": 9,
   "metadata": {},
   "outputs": [
    {
     "name": "stdout",
     "output_type": "stream",
     "text": [
      "{'Salviati', 'Guadagni', 'Castellani', 'Peruzzi', 'Medici', 'Albizzi', 'Ridolfi', 'Strozzi'}\n",
      "Size: 8\n",
      "VC? : True\n"
     ]
    }
   ],
   "source": [
    "\"\"\"\n",
    "vertex_cover_kernelization\n",
    "\"\"\"\n",
    "\n",
    "vc_k = vertex_cover_kernelization(graph, k)\n",
    "print_vc(graph, vc_k)"
   ]
  },
  {
   "cell_type": "markdown",
   "metadata": {
    "deletable": false,
    "editable": false,
    "run_control": {
     "frozen": true
    }
   },
   "source": [
    "#### Branching"
   ]
  },
  {
   "cell_type": "code",
   "execution_count": 10,
   "metadata": {},
   "outputs": [
    {
     "name": "stdout",
     "output_type": "stream",
     "text": [
      "{'Acciaiuoli', 'Salviati', 'Bischeri', 'Guadagni', 'Castellani', 'Peruzzi', 'Medici', 'Albizzi', 'Tornabuoni', 'Ridolfi', 'Strozzi'}\n",
      "Size: 11\n",
      "VC? : True\n",
      "{'Acciaiuoli', 'Salviati', 'Bischeri', 'Guadagni', 'Castellani', 'Peruzzi', 'Medici', 'Albizzi', 'Tornabuoni', 'Ridolfi', 'Strozzi'}\n",
      "Size: 11\n",
      "VC? : True\n",
      "{'Acciaiuoli', 'Salviati', 'Bischeri', 'Guadagni', 'Castellani', 'Peruzzi', 'Medici', 'Albizzi', 'Tornabuoni', 'Ridolfi', 'Strozzi'}\n",
      "Size: 11\n",
      "VC? : True\n"
     ]
    }
   ],
   "source": [
    "\"\"\"\n",
    "vertex_cover_branching_dfs_recursive\n",
    "vertex_cover_branching_dfs_iterative\n",
    "vertex_cover_branching_bfs\n",
    "\"\"\"\n",
    "\n",
    "vc_b_dfs_r = vertex_cover_branching_dfs_recursive(graph, k)\n",
    "print_vc(graph, vc_b_dfs_r)\n",
    "\n",
    "vc_b_dfs_i = vertex_cover_branching_dfs_iterative(graph, k)\n",
    "print_vc(graph, vc_b_dfs_i)\n",
    "\n",
    "vc_b_bfs = vertex_cover_branching_bfs(graph, k)\n",
    "print_vc(graph, vc_b_bfs)"
   ]
  },
  {
   "cell_type": "markdown",
   "metadata": {},
   "source": [
    "### Runtime Analysis\n",
    "\n",
    "#### Requirements\n",
    "\n",
    "- Multiple graphs\n",
    "- graphs must vary in size and density\n",
    "- test k from 0 up to number of nodes\n",
    "- use process_time\n",
    "- repeat each k value x times\n",
    "- record times to csv\n",
    "- log % completion using tqdm"
   ]
  },
  {
   "cell_type": "code",
   "execution_count": 11,
   "metadata": {},
   "outputs": [],
   "source": [
    "def timeit(repeat, number, function, *args):\n",
    "    pass\n",
    "\n",
    "\n",
    "# %timeit vertex_cover_brute_force(florentine, k)\n",
    "# %timeit vertex_cover_kernelization(florentine, k)\n",
    "# %timeit vertex_cover_branching_dfs_recursive(florentine, k)\n",
    "# %timeit vertex_cover_branching_dfs_iterative(florentine, k)\n",
    "# %timeit vertex_cover_branching_bfs(florentine, k)"
   ]
  },
  {
   "cell_type": "code",
   "execution_count": 10,
   "metadata": {},
   "outputs": [],
   "source": [
    "from tqdm.notebook import tqdm, trange\n",
    "from time import sleep"
   ]
  },
  {
   "cell_type": "code",
   "execution_count": 14,
   "metadata": {},
   "outputs": [
    {
     "data": {
      "application/vnd.jupyter.widget-view+json": {
       "model_id": "54b997189aee4e25868a994fe38999c0",
       "version_major": 2,
       "version_minor": 0
      },
      "text/plain": [
       "HBox(children=(FloatProgress(value=0.0, description='1st loop', max=3.0, style=ProgressStyle(description_width…"
      ]
     },
     "metadata": {},
     "output_type": "display_data"
    },
    {
     "data": {
      "application/vnd.jupyter.widget-view+json": {
       "model_id": "",
       "version_major": 2,
       "version_minor": 0
      },
      "text/plain": [
       "HBox(children=(FloatProgress(value=0.0, description='2nd loop', style=ProgressStyle(description_width='initial…"
      ]
     },
     "metadata": {},
     "output_type": "display_data"
    },
    {
     "data": {
      "application/vnd.jupyter.widget-view+json": {
       "model_id": "",
       "version_major": 2,
       "version_minor": 0
      },
      "text/plain": [
       "HBox(children=(FloatProgress(value=0.0, description='2nd loop', style=ProgressStyle(description_width='initial…"
      ]
     },
     "metadata": {},
     "output_type": "display_data"
    },
    {
     "data": {
      "application/vnd.jupyter.widget-view+json": {
       "model_id": "",
       "version_major": 2,
       "version_minor": 0
      },
      "text/plain": [
       "HBox(children=(FloatProgress(value=0.0, description='2nd loop', style=ProgressStyle(description_width='initial…"
      ]
     },
     "metadata": {},
     "output_type": "display_data"
    },
    {
     "name": "stdout",
     "output_type": "stream",
     "text": [
      "\n"
     ]
    }
   ],
   "source": [
    "for i in trange(3, desc='1st loop'):\n",
    "    for j in tqdm(range(100), desc='2nd loop', leave=False):\n",
    "        sleep(0.01)"
   ]
  }
 ],
 "metadata": {
  "kernelspec": {
   "display_name": "Python 3",
   "language": "python",
   "name": "python3"
  },
  "language_info": {
   "codemirror_mode": {
    "name": "ipython",
    "version": 3
   },
   "file_extension": ".py",
   "mimetype": "text/x-python",
   "name": "python",
   "nbconvert_exporter": "python",
   "pygments_lexer": "ipython3",
   "version": "3.8.0"
  },
  "notify_time": "0"
 },
 "nbformat": 4,
 "nbformat_minor": 4
}
