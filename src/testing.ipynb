{
 "cells": [
  {
   "cell_type": "markdown",
   "metadata": {},
   "source": [
    "# Local testing for Vertex Cover algorithms"
   ]
  },
  {
   "cell_type": "markdown",
   "metadata": {},
   "source": [
    "Fix for NotImplementedError for notebook in Python3.8\n",
    "https://stackoverflow.com/questions/58422817/jupyter-notebook-with-python-3-8-notimplementederror"
   ]
  },
  {
   "cell_type": "code",
   "execution_count": 1,
   "metadata": {},
   "outputs": [],
   "source": [
    "import networkx as nx\n",
    "import matplotlib.pyplot as plt\n",
    "\n",
    "from networkx.algorithms.approximation.vertex_cover import min_weighted_vertex_cover\n",
    "from vertex_cover import *"
   ]
  },
  {
   "cell_type": "markdown",
   "metadata": {},
   "source": [
    "## Generating graphs"
   ]
  },
  {
   "cell_type": "code",
   "execution_count": 2,
   "metadata": {},
   "outputs": [],
   "source": [
    "# Generate classic small graphs\n",
    "petersen = nx.petersen_graph()\n",
    "tutte = nx.tutte_graph()\n",
    "maze = nx.sedgewick_maze_graph()\n",
    "tet = nx.tetrahedral_graph()"
   ]
  },
  {
   "cell_type": "code",
   "execution_count": 3,
   "metadata": {},
   "outputs": [],
   "source": [
    "# Generate social networks\n",
    "florentine = nx.generators.social.florentine_families_graph()"
   ]
  },
  {
   "cell_type": "code",
   "execution_count": 4,
   "metadata": {},
   "outputs": [],
   "source": [
    "# Constructively generate classic graphs\n",
    "K_5 = nx.complete_graph(5)\n",
    "K_3_5 = nx.complete_bipartite_graph(3, 5)\n",
    "barbell = nx.barbell_graph(10, 10)\n",
    "lollipop = nx.lollipop_graph(10, 20)"
   ]
  },
  {
   "cell_type": "code",
   "execution_count": 5,
   "metadata": {},
   "outputs": [],
   "source": [
    "# Generate stochastic graphs\n",
    "er = nx.erdos_renyi_graph(100, 0.15)\n",
    "ws = nx.watts_strogatz_graph(30, 3, 0.1)\n",
    "ba = nx.barabasi_albert_graph(100, 5)\n",
    "red = nx.random_lobster(100, 0.9, 0.9)"
   ]
  },
  {
   "cell_type": "markdown",
   "metadata": {},
   "source": [
    "NetworkX random graph generators worth testing with:\n",
    "- Community\n",
    "- Social Networks\n",
    "- Random Graphs"
   ]
  },
  {
   "cell_type": "markdown",
   "metadata": {},
   "source": [
    "## Drawing graphs"
   ]
  },
  {
   "cell_type": "code",
   "execution_count": 6,
   "metadata": {},
   "outputs": [
    {
     "data": {
      "image/png": "[encoded data removed]",
      "text/plain": [
       "<Figure size 432x288 with 2 Axes>"
      ]
     },
     "metadata": {},
     "output_type": "display_data"
    }
   ],
   "source": [
    "options = {\n",
    "#     'node_color': 'black',\n",
    "    'node_size': 50,\n",
    "    'line_color': 'grey',\n",
    "    'linewidths': 0,\n",
    "    'width': 0.5,\n",
    "}\n",
    "\n",
    "plt.subplot(121)\n",
    "nx.draw(florentine, **options)\n",
    "plt.subplot(122)\n",
    "nx.draw(tutte, **options)"
   ]
  },
  {
   "cell_type": "markdown",
   "metadata": {},
   "source": [
    "## Testing VC"
   ]
  },
  {
   "cell_type": "code",
   "execution_count": 12,
   "metadata": {},
   "outputs": [],
   "source": [
    "def print_vc(graph, vc):\n",
    "    if vc:\n",
    "        print(vc)\n",
    "        print(f\"Size: {len(vc)}\")\n",
    "        print(f\"VC? : {is_vertex_cover(graph, vc)}\")\n",
    "    else:\n",
    "        print(\"None\")"
   ]
  },
  {
   "cell_type": "markdown",
   "metadata": {},
   "source": [
    "### Validity"
   ]
  },
  {
   "cell_type": "code",
   "execution_count": 8,
   "metadata": {},
   "outputs": [],
   "source": [
    "graph = florentine\n",
    "k = 12"
   ]
  },
  {
   "cell_type": "markdown",
   "metadata": {},
   "source": [
    "#### Kernelization"
   ]
  },
  {
   "cell_type": "code",
   "execution_count": 13,
   "metadata": {},
   "outputs": [
    {
     "name": "stdout",
     "output_type": "stream",
     "text": [
      "{'Albizzi', 'Peruzzi', 'Strozzi', 'Medici', 'Guadagni', 'Castellani', 'Ridolfi', 'Salviati'}\n",
      "Size: 8\n",
      "VC? : True\n",
      "VC?2: True\n"
     ]
    }
   ],
   "source": [
    "\"\"\"\n",
    "vertex_cover_kernelization\n",
    "\"\"\"\n",
    "\n",
    "vc_k = vertex_cover_kernelization(graph, k)\n",
    "print_vc(graph, vc_k)"
   ]
  },
  {
   "cell_type": "markdown",
   "metadata": {},
   "source": [
    "#### Branching"
   ]
  },
  {
   "cell_type": "code",
   "execution_count": 14,
   "metadata": {},
   "outputs": [
    {
     "name": "stdout",
     "output_type": "stream",
     "text": [
      "{'Bischeri', 'Albizzi', 'Peruzzi', 'Strozzi', 'Acciaiuoli', 'Medici', 'Guadagni', 'Castellani', 'Tornabuoni', 'Ridolfi', 'Salviati'}\n",
      "Size: 11\n",
      "VC? : True\n",
      "VC?2: True\n",
      "{'Bischeri', 'Albizzi', 'Peruzzi', 'Strozzi', 'Acciaiuoli', 'Medici', 'Guadagni', 'Castellani', 'Tornabuoni', 'Ridolfi', 'Salviati'}\n",
      "Size: 11\n",
      "VC? : True\n",
      "VC?2: True\n",
      "{'Bischeri', 'Albizzi', 'Peruzzi', 'Strozzi', 'Acciaiuoli', 'Medici', 'Guadagni', 'Castellani', 'Tornabuoni', 'Ridolfi', 'Salviati'}\n",
      "Size: 11\n",
      "VC? : True\n",
      "VC?2: True\n"
     ]
    }
   ],
   "source": [
    "\"\"\"\n",
    "vertex_cover_branching_dfs_recursive\n",
    "vertex_cover_branching_dfs_iterative\n",
    "vertex_cover_branching_bfs\n",
    "\"\"\"\n",
    "\n",
    "vc_b_dfs_r = vertex_cover_branching_dfs_recursive(graph, k)\n",
    "print_vc(graph, vc_b_dfs_r)\n",
    "\n",
    "vc_b_dfs_i = vertex_cover_branching_dfs_iterative(graph, k)\n",
    "print_vc(graph, vc_b_dfs_i)\n",
    "\n",
    "vc_b_bfs = vertex_cover_branching_bfs(graph, k)\n",
    "print_vc(graph, vc_b_bfs)"
   ]
  },
  {
   "cell_type": "markdown",
   "metadata": {},
   "source": [
    "### Runtime Analysis"
   ]
  },
  {
   "cell_type": "code",
   "execution_count": 11,
   "metadata": {},
   "outputs": [
    {
     "ename": "IndentationError",
     "evalue": "expected an indented block (<ipython-input-11-baa83a85bd0b>, line 5)",
     "output_type": "error",
     "traceback": [
      "\u001b[1;36m  File \u001b[1;32m\"<ipython-input-11-baa83a85bd0b>\"\u001b[1;36m, line \u001b[1;32m5\u001b[0m\n\u001b[1;33m    get_ipython().run_line_magic('timeit', 'vertex_cover_brute_force(florentine, k)')\u001b[0m\n\u001b[1;37m    ^\u001b[0m\n\u001b[1;31mIndentationError\u001b[0m\u001b[1;31m:\u001b[0m expected an indented block\n"
     ]
    }
   ],
   "source": [
    "def timeit(repeat, number, function, *args):\n",
    "    \n",
    "\n",
    "\n",
    "%timeit vertex_cover_brute_force(florentine, k)\n",
    "%timeit vertex_cover_kernelization(florentine, k)\n",
    "%timeit vertex_cover_branching_dfs_recursive(florentine, k)\n",
    "%timeit vertex_cover_branching_dfs_iterative(florentine, k)\n",
    "%timeit vertex_cover_branching_bfs(florentine, k)"
   ]
  }
 ],
 "metadata": {
  "kernelspec": {
   "display_name": "Python 3",
   "language": "python",
   "name": "python3"
  },
  "language_info": {
   "codemirror_mode": {
    "name": "ipython",
    "version": 3
   },
   "file_extension": ".py",
   "mimetype": "text/x-python",
   "name": "python",
   "nbconvert_exporter": "python",
   "pygments_lexer": "ipython3",
   "version": "3.8.0"
  },
  "notify_time": "0"
 },
 "nbformat": 4,
 "nbformat_minor": 4
}
