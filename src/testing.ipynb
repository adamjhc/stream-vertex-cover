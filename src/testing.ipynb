{
 "cells": [
  {
   "cell_type": "markdown",
   "metadata": {},
   "source": [
    "# Local testing for Vertex Cover algorithms"
   ]
  },
  {
   "cell_type": "markdown",
   "metadata": {},
   "source": [
    "Fix for NotImplementedError for notebook in Python3.8\n",
    "https://stackoverflow.com/questions/58422817/jupyter-notebook-with-python-3-8-notimplementederror"
   ]
  },
  {
   "cell_type": "code",
   "execution_count": 1,
   "metadata": {},
   "outputs": [],
   "source": [
    "import networkx as nx\n",
    "import matplotlib.pyplot as plt\n",
    "\n",
    "from networkx.algorithms.approximation.vertex_cover import min_weighted_vertex_cover\n",
    "from vertex_cover import *"
   ]
  },
  {
   "cell_type": "markdown",
   "metadata": {},
   "source": [
    "# Generating graphs"
   ]
  },
  {
   "cell_type": "code",
   "execution_count": 2,
   "metadata": {},
   "outputs": [],
   "source": [
    "# Generate classic small graphs\n",
    "petersen = nx.petersen_graph()\n",
    "tutte = nx.tutte_graph()\n",
    "maze = nx.sedgewick_maze_graph()\n",
    "tet = nx.tetrahedral_graph()"
   ]
  },
  {
   "cell_type": "code",
   "execution_count": 3,
   "metadata": {},
   "outputs": [],
   "source": [
    "# Generate social networks\n",
    "florentine = nx.generators.social.florentine_families_graph()"
   ]
  },
  {
   "cell_type": "code",
   "execution_count": 4,
   "metadata": {},
   "outputs": [],
   "source": [
    "# Constructively generate classic graphs\n",
    "K_5 = nx.complete_graph(5)\n",
    "K_3_5 = nx.complete_bipartite_graph(3, 5)\n",
    "barbell = nx.barbell_graph(10, 10)\n",
    "lollipop = nx.lollipop_graph(10, 20)"
   ]
  },
  {
   "cell_type": "code",
   "execution_count": 5,
   "metadata": {},
   "outputs": [],
   "source": [
    "# Generate stochastic graphs\n",
    "er = nx.erdos_renyi_graph(100, 0.15)\n",
    "ws = nx.watts_strogatz_graph(30, 3, 0.1)\n",
    "ba = nx.barabasi_albert_graph(100, 5)\n",
    "red = nx.random_lobster(100, 0.9, 0.9)"
   ]
  },
  {
   "cell_type": "markdown",
   "metadata": {},
   "source": [
    "NetworkX random graph generators worth testing with:\n",
    "- Community\n",
    "- Social Networks\n",
    "- Random Graphs"
   ]
  },
  {
   "cell_type": "markdown",
   "metadata": {},
   "source": [
    "# Drawing graphs"
   ]
  },
  {
   "cell_type": "code",
   "execution_count": 6,
   "metadata": {},
   "outputs": [
    {
     "data": {
      "image/png": "[encoded data removed]",
      "text/plain": [
       "<Figure size 432x288 with 2 Axes>"
      ]
     },
     "metadata": {},
     "output_type": "display_data"
    }
   ],
   "source": [
    "options = {\n",
    "#     'node_color': 'black',\n",
    "    'node_size': 50,\n",
    "    'line_color': 'grey',\n",
    "    'linewidths': 0,\n",
    "    'width': 0.5,\n",
    "}\n",
    "\n",
    "plt.subplot(121)\n",
    "nx.draw(florentine, **options)\n",
    "plt.subplot(122)\n",
    "nx.draw(tutte, **options)"
   ]
  },
  {
   "cell_type": "markdown",
   "metadata": {},
   "source": [
    "# Testing VC"
   ]
  },
  {
   "cell_type": "code",
   "execution_count": 32,
   "metadata": {
    "scrolled": true
   },
   "outputs": [
    {
     "data": {
      "text/plain": [
       "15"
      ]
     },
     "execution_count": 32,
     "metadata": {},
     "output_type": "execute_result"
    }
   ],
   "source": [
    "graph = florentine\n",
    "k = 12\n",
    "\n",
    "functions = [\n",
    "    {\n",
    "        \"name\": \"NetworkX VC\",\n",
    "        \"func\": min_weighted_vertex_cover\n",
    "    },\n",
    "    {\n",
    "        \"name\": \"Brute Force\",\n",
    "        \"func\": vertex_cover_brute_force,\n",
    "    },\n",
    "    {\n",
    "        \"name\": \"Kernelization\",\n",
    "        \"func\": vertex_cover_kernelization,\n",
    "    },\n",
    "#     {\n",
    "#         \"name\": \"Branching 2^k Pass\",\n",
    "#         \"func\": vertex_cover_branching_2k_pass,\n",
    "#     },\n",
    "#     {\n",
    "#         \"name\": \"Branching 1 Pass\",\n",
    "#         \"func\": vertex_cover_branching_1_pass,\n",
    "#     },\n",
    "#     {\n",
    "#         \"name\": \"Iterative Compression\",\n",
    "#         \"func\": vertex_cover_iterative_compression,\n",
    "#     },\n",
    "]\n",
    "\n",
    "# for function in functions:\n",
    "#     print(function[\"name\"])\n",
    "#     func = function[\"func\"]\n",
    "    \n",
    "#     if function[\"name\"] != \"NetworkX VC\":\n",
    "#         print(f\"Result: {func(graph, k)}\\n\")\n",
    "#     else:\n",
    "#         print(f\"Result: {func(graph)}\\n\")\n",
    "\n",
    "len(list(powerset(list(florentine.nodes), 5)))\n",
    "len(florentine.nodes)"
   ]
  },
  {
   "cell_type": "code",
   "execution_count": null,
   "metadata": {},
   "outputs": [],
   "source": [
    "%timeit -n 50 vertex_cover_brute_force(florentine, k)\n",
    "%timeit -n 50 vertex_cover_kernelization(tutte, k)"
   ]
  },
  {
   "cell_type": "markdown",
   "metadata": {},
   "source": [
    "## Kernelization"
   ]
  },
  {
   "cell_type": "code",
   "execution_count": 9,
   "metadata": {},
   "outputs": [
    {
     "name": "stdout",
     "output_type": "stream",
     "text": [
      "{'Guadagni', 'Peruzzi', 'Salviati', 'Strozzi', 'Ridolfi', 'Castellani', 'Medici', 'Albizzi'}\n"
     ]
    }
   ],
   "source": [
    "vc = vertex_cover_kernelization(graph, k)\n",
    "print(vc)"
   ]
  },
  {
   "cell_type": "markdown",
   "metadata": {},
   "source": [
    "## Branching"
   ]
  },
  {
   "cell_type": "code",
   "execution_count": 11,
   "metadata": {},
   "outputs": [
    {
     "ename": "IndexError",
     "evalue": "list index out of range",
     "output_type": "error",
     "traceback": [
      "\u001b[1;31m---------------------------------------------------------------------------\u001b[0m",
      "\u001b[1;31mIndexError\u001b[0m                                Traceback (most recent call last)",
      "\u001b[1;32m<ipython-input-11-bcdfeebdda78>\u001b[0m in \u001b[0;36m<module>\u001b[1;34m\u001b[0m\n\u001b[1;32m----> 1\u001b[1;33m \u001b[0mvc\u001b[0m \u001b[1;33m=\u001b[0m \u001b[0mvertex_cover_branching_2k_pass\u001b[0m\u001b[1;33m(\u001b[0m\u001b[0mgraph\u001b[0m\u001b[1;33m,\u001b[0m \u001b[0mk\u001b[0m\u001b[1;33m)\u001b[0m\u001b[1;33m\u001b[0m\u001b[1;33m\u001b[0m\u001b[0m\n\u001b[0m\u001b[0;32m      2\u001b[0m \u001b[0mprint\u001b[0m\u001b[1;33m(\u001b[0m\u001b[0mvc\u001b[0m\u001b[1;33m)\u001b[0m\u001b[1;33m\u001b[0m\u001b[1;33m\u001b[0m\u001b[0m\n",
      "\u001b[1;32m~\\OneDrive\\Documents\\University\\3rd_year\\final_year_project\\mod-ug-proj-2019\\src\\vertex_cover\\branching.py\u001b[0m in \u001b[0;36mvertex_cover_branching_2k_pass\u001b[1;34m(graph, k)\u001b[0m\n\u001b[0;32m     29\u001b[0m         \u001b[0mj\u001b[0m \u001b[1;33m=\u001b[0m \u001b[1;36m0\u001b[0m\u001b[1;33m\u001b[0m\u001b[1;33m\u001b[0m\u001b[0m\n\u001b[0;32m     30\u001b[0m         \u001b[1;32mwhile\u001b[0m \u001b[0mi\u001b[0m \u001b[1;33m!=\u001b[0m \u001b[0mk\u001b[0m \u001b[1;33m+\u001b[0m \u001b[1;36m1\u001b[0m\u001b[1;33m:\u001b[0m\u001b[1;33m\u001b[0m\u001b[1;33m\u001b[0m\u001b[0m\n\u001b[1;32m---> 31\u001b[1;33m             \u001b[1;33m(\u001b[0m\u001b[0mu\u001b[0m\u001b[1;33m,\u001b[0m \u001b[0mv\u001b[0m\u001b[1;33m)\u001b[0m \u001b[1;33m=\u001b[0m \u001b[0medges\u001b[0m\u001b[1;33m[\u001b[0m\u001b[0mj\u001b[0m\u001b[1;33m]\u001b[0m\u001b[1;33m\u001b[0m\u001b[1;33m\u001b[0m\u001b[0m\n\u001b[0m\u001b[0;32m     32\u001b[0m             \u001b[1;32mif\u001b[0m \u001b[0mu\u001b[0m \u001b[1;32mnot\u001b[0m \u001b[1;32min\u001b[0m \u001b[0mS\u001b[0m \u001b[1;32mand\u001b[0m \u001b[0mv\u001b[0m \u001b[1;32mnot\u001b[0m \u001b[1;32min\u001b[0m \u001b[0mS\u001b[0m\u001b[1;33m:\u001b[0m\u001b[1;33m\u001b[0m\u001b[1;33m\u001b[0m\u001b[0m\n\u001b[0;32m     33\u001b[0m                 \u001b[1;32mif\u001b[0m \u001b[0mx\u001b[0m\u001b[1;33m[\u001b[0m\u001b[0mi\u001b[0m\u001b[1;33m]\u001b[0m \u001b[1;33m==\u001b[0m \u001b[1;34m\"0\"\u001b[0m\u001b[1;33m:\u001b[0m\u001b[1;33m\u001b[0m\u001b[1;33m\u001b[0m\u001b[0m\n",
      "\u001b[1;31mIndexError\u001b[0m: list index out of range"
     ]
    }
   ],
   "source": [
    "vc = vertex_cover_branching_2k_pass(graph, k)\n",
    "print(vc)"
   ]
  }
 ],
 "metadata": {
  "kernelspec": {
   "display_name": "Python 3",
   "language": "python",
   "name": "python3"
  },
  "language_info": {
   "codemirror_mode": {
    "name": "ipython",
    "version": 3
   },
   "file_extension": ".py",
   "mimetype": "text/x-python",
   "name": "python",
   "nbconvert_exporter": "python",
   "pygments_lexer": "ipython3",
   "version": "3.8.0"
  },
  "notify_time": "0"
 },
 "nbformat": 4,
 "nbformat_minor": 4
}
